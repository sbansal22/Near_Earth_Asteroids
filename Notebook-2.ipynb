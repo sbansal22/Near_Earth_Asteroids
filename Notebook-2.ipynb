{
 "cells": [
  {
   "cell_type": "code",
   "execution_count": 1,
   "metadata": {},
   "outputs": [],
   "source": [
    "import numpy as np\n",
    "\n",
    "# Set up matplotlib and use a nicer set of plot parameters\n",
    "%config InlineBackend.rc = {}\n",
    "import matplotlib\n",
    "import matplotlib.pyplot as plt\n",
    "%matplotlib inline\n",
    "\n",
    "# Configure Jupyter so figures appear in the notebook\n",
    "%matplotlib inline\n",
    "\n",
    "# Configure Jupyter to display the assigned value after an assignment\n",
    "%config InteractiveShell.ast_node_interactivity='last_expr_or_assign'\n",
    "\n",
    "# import functions from the modsim.py module\n",
    "from modsim import *\n",
    "\n",
    "# import math\n",
    "import numpy as np\n",
    "import matplotlib.pyplot as plt\n",
    "\n",
    "#import time\n",
    "import datetime"
   ]
  },
  {
   "cell_type": "code",
   "execution_count": 2,
   "metadata": {},
   "outputs": [],
   "source": [
    "from astropy.io import ascii"
   ]
  },
  {
   "cell_type": "markdown",
   "metadata": {},
   "source": [
    "# Importing data from JPL Horizons"
   ]
  },
  {
   "cell_type": "code",
   "execution_count": 3,
   "metadata": {},
   "outputs": [
    {
     "data": {
      "text/html": [
       "<i>Table length=523824</i>\n",
       "<table id=\"table140125188341888\" class=\"table-striped table-bordered table-condensed\">\n",
       "<thead><tr><th>Num</th><th>Name</th><th>Epoch</th><th>a</th><th>e</th><th>i</th><th>w</th><th>Node</th><th>M</th><th>H</th><th>G</th><th>Ref</th></tr></thead>\n",
       "<thead><tr><th>int64</th><th>str17</th><th>int64</th><th>float64</th><th>float64</th><th>float64</th><th>float64</th><th>float64</th><th>float64</th><th>float64</th><th>float64</th><th>str7</th></tr></thead>\n",
       "<tr><td>1</td><td>Ceres</td><td>58600</td><td>2.7691651</td><td>0.07600903</td><td>10.59407</td><td>73.59769</td><td>80.30553</td><td>77.3720977</td><td>3.34</td><td>0.12</td><td>JPL 34</td></tr>\n",
       "<tr><td>2</td><td>Pallas</td><td>58600</td><td>2.7724659</td><td>0.23033681</td><td>34.83623</td><td>310.04886</td><td>173.08006</td><td>59.699131</td><td>4.13</td><td>0.11</td><td>JPL 34</td></tr>\n",
       "<tr><td>3</td><td>Juno</td><td>58600</td><td>2.6691495</td><td>0.25694231</td><td>12.98892</td><td>248.13863</td><td>169.85275</td><td>34.925019</td><td>5.33</td><td>0.32</td><td>JPL 107</td></tr>\n",
       "<tr><td>4</td><td>Vesta</td><td>58600</td><td>2.3614179</td><td>0.08872146</td><td>7.14177</td><td>150.72854</td><td>103.8108</td><td>95.8619362</td><td>3.2</td><td>0.32</td><td>JPL 34</td></tr>\n",
       "<tr><td>5</td><td>Astraea</td><td>58600</td><td>2.5742489</td><td>0.19109452</td><td>5.36699</td><td>358.68761</td><td>141.5766</td><td>282.3662913</td><td>6.85</td><td>0.15</td><td>JPL 107</td></tr>\n",
       "<tr><td>6</td><td>Hebe</td><td>58600</td><td>2.42516</td><td>0.20300711</td><td>14.7379</td><td>239.80749</td><td>138.6402</td><td>86.1979217</td><td>5.71</td><td>0.24</td><td>JPL 85</td></tr>\n",
       "<tr><td>7</td><td>Iris</td><td>58600</td><td>2.3853338</td><td>0.23120579</td><td>5.52365</td><td>145.2651</td><td>259.56323</td><td>140.4196554</td><td>5.51</td><td>0.15</td><td>JPL 108</td></tr>\n",
       "<tr><td>8</td><td>Flora</td><td>58600</td><td>2.2017642</td><td>0.15649925</td><td>5.88695</td><td>285.28746</td><td>110.88933</td><td>194.8828966</td><td>6.49</td><td>0.28</td><td>JPL 116</td></tr>\n",
       "<tr><td>9</td><td>Metis</td><td>58600</td><td>2.3856365</td><td>0.12311427</td><td>5.57682</td><td>6.41737</td><td>68.90858</td><td>276.8616188</td><td>6.28</td><td>0.17</td><td>JPL 113</td></tr>\n",
       "<tr><td>10</td><td>Hygiea</td><td>58600</td><td>3.1415392</td><td>0.11246066</td><td>3.83156</td><td>312.31521</td><td>283.20217</td><td>152.1848508</td><td>5.43</td><td>0.15</td><td>JPL 90</td></tr>\n",
       "<tr><td>...</td><td>...</td><td>...</td><td>...</td><td>...</td><td>...</td><td>...</td><td>...</td><td>...</td><td>...</td><td>...</td><td>...</td></tr>\n",
       "<tr><td>523815</td><td>2009 HW44</td><td>58600</td><td>2.6874057</td><td>0.59211641</td><td>41.08185</td><td>296.56325</td><td>37.88264</td><td>52.4018906</td><td>17.5</td><td>0.15</td><td>JPL 46</td></tr>\n",
       "<tr><td>523816</td><td>2009 ST103</td><td>58600</td><td>2.6886324</td><td>0.72196892</td><td>15.92724</td><td>233.84485</td><td>227.23064</td><td>41.4086496</td><td>18.1</td><td>0.15</td><td>JPL 34</td></tr>\n",
       "<tr><td>523817</td><td>2009 TK</td><td>58600</td><td>1.3077824</td><td>0.20420845</td><td>20.17251</td><td>181.43365</td><td>192.74775</td><td>134.9360337</td><td>22.3</td><td>0.15</td><td>JPL 33</td></tr>\n",
       "<tr><td>523818</td><td>2010 SH13</td><td>58600</td><td>1.2059555</td><td>0.13692666</td><td>13.86164</td><td>10.9688</td><td>190.6017</td><td>325.6154636</td><td>21.3</td><td>0.15</td><td>JPL 39</td></tr>\n",
       "<tr><td>523819</td><td>2010 VB72</td><td>58600</td><td>1.2176171</td><td>0.06721459</td><td>16.05986</td><td>337.8376</td><td>196.84414</td><td>347.5524098</td><td>20.9</td><td>0.15</td><td>JPL 39</td></tr>\n",
       "<tr><td>523820</td><td>2011 GN44</td><td>58600</td><td>2.2447515</td><td>0.59786469</td><td>54.9959</td><td>319.3553</td><td>16.94976</td><td>81.1094202</td><td>18.3</td><td>0.15</td><td>JPL 26</td></tr>\n",
       "<tr><td>523821</td><td>2011 RF</td><td>58600</td><td>1.766413</td><td>0.29569351</td><td>9.523</td><td>107.63119</td><td>233.52439</td><td>95.1829618</td><td>20.5</td><td>0.15</td><td>JPL 28</td></tr>\n",
       "<tr><td>523822</td><td>2012 DG61</td><td>58600</td><td>3.2512573</td><td>0.73812059</td><td>15.3397</td><td>186.13602</td><td>69.9953</td><td>56.0597163</td><td>18.2</td><td>0.15</td><td>JPL 54</td></tr>\n",
       "<tr><td>523823</td><td>2015 BG311</td><td>58600</td><td>2.568408</td><td>0.56785462</td><td>5.73225</td><td>127.19745</td><td>238.92659</td><td>58.6176278</td><td>18.1</td><td>0.15</td><td>JPL 25</td></tr>\n",
       "<tr><td>523824</td><td>2016 RO1</td><td>58600</td><td>1.5545656</td><td>0.33320635</td><td>13.68521</td><td>187.46631</td><td>261.61001</td><td>61.1710821</td><td>19.5</td><td>0.15</td><td>JPL 57</td></tr>\n",
       "</table>"
      ],
      "text/plain": [
       "<Table length=523824>\n",
       " Num      Name    Epoch     a     ...      M         H       G      Ref  \n",
       "int64    str17    int64  float64  ...   float64   float64 float64   str7 \n",
       "------ ---------- ----- --------- ... ----------- ------- ------- -------\n",
       "     1      Ceres 58600 2.7691651 ...  77.3720977    3.34    0.12  JPL 34\n",
       "     2     Pallas 58600 2.7724659 ...   59.699131    4.13    0.11  JPL 34\n",
       "     3       Juno 58600 2.6691495 ...   34.925019    5.33    0.32 JPL 107\n",
       "     4      Vesta 58600 2.3614179 ...  95.8619362     3.2    0.32  JPL 34\n",
       "     5    Astraea 58600 2.5742489 ... 282.3662913    6.85    0.15 JPL 107\n",
       "     6       Hebe 58600   2.42516 ...  86.1979217    5.71    0.24  JPL 85\n",
       "     7       Iris 58600 2.3853338 ... 140.4196554    5.51    0.15 JPL 108\n",
       "     8      Flora 58600 2.2017642 ... 194.8828966    6.49    0.28 JPL 116\n",
       "     9      Metis 58600 2.3856365 ... 276.8616188    6.28    0.17 JPL 113\n",
       "    10     Hygiea 58600 3.1415392 ... 152.1848508    5.43    0.15  JPL 90\n",
       "   ...        ...   ...       ... ...         ...     ...     ...     ...\n",
       "523815  2009 HW44 58600 2.6874057 ...  52.4018906    17.5    0.15  JPL 46\n",
       "523816 2009 ST103 58600 2.6886324 ...  41.4086496    18.1    0.15  JPL 34\n",
       "523817    2009 TK 58600 1.3077824 ... 134.9360337    22.3    0.15  JPL 33\n",
       "523818  2010 SH13 58600 1.2059555 ... 325.6154636    21.3    0.15  JPL 39\n",
       "523819  2010 VB72 58600 1.2176171 ... 347.5524098    20.9    0.15  JPL 39\n",
       "523820  2011 GN44 58600 2.2447515 ...  81.1094202    18.3    0.15  JPL 26\n",
       "523821    2011 RF 58600  1.766413 ...  95.1829618    20.5    0.15  JPL 28\n",
       "523822  2012 DG61 58600 3.2512573 ...  56.0597163    18.2    0.15  JPL 54\n",
       "523823 2015 BG311 58600  2.568408 ...  58.6176278    18.1    0.15  JPL 25\n",
       "523824   2016 RO1 58600 1.5545656 ...  61.1710821    19.5    0.15  JPL 57"
      ]
     },
     "execution_count": 3,
     "metadata": {},
     "output_type": "execute_result"
    }
   ],
   "source": [
    "tbl = ascii.read(\"ELEMENTS.NUMBR\")\n",
    "tbl"
   ]
  },
  {
   "cell_type": "code",
   "execution_count": 4,
   "metadata": {},
   "outputs": [
    {
     "data": {
      "text/html": [
       "&lt;Column name=&apos;w&apos; dtype=&apos;float64&apos; length=523824&gt;\n",
       "<table>\n",
       "<tr><td>73.59769</td></tr>\n",
       "<tr><td>310.04886</td></tr>\n",
       "<tr><td>248.13863</td></tr>\n",
       "<tr><td>150.72854</td></tr>\n",
       "<tr><td>358.68761</td></tr>\n",
       "<tr><td>239.80749</td></tr>\n",
       "<tr><td>145.2651</td></tr>\n",
       "<tr><td>285.28746</td></tr>\n",
       "<tr><td>6.41737</td></tr>\n",
       "<tr><td>312.31521</td></tr>\n",
       "<tr><td>195.5504</td></tr>\n",
       "<tr><td>69.64181</td></tr>\n",
       "<tr><td>...</td></tr>\n",
       "<tr><td>136.91482</td></tr>\n",
       "<tr><td>283.28439</td></tr>\n",
       "<tr><td>296.56325</td></tr>\n",
       "<tr><td>233.84485</td></tr>\n",
       "<tr><td>181.43365</td></tr>\n",
       "<tr><td>10.9688</td></tr>\n",
       "<tr><td>337.8376</td></tr>\n",
       "<tr><td>319.3553</td></tr>\n",
       "<tr><td>107.63119</td></tr>\n",
       "<tr><td>186.13602</td></tr>\n",
       "<tr><td>127.19745</td></tr>\n",
       "<tr><td>187.46631</td></tr>\n",
       "</table>"
      ],
      "text/plain": [
       "<Column name='w' dtype='float64' length=523824>\n",
       " 73.59769\n",
       "310.04886\n",
       "248.13863\n",
       "150.72854\n",
       "358.68761\n",
       "239.80749\n",
       " 145.2651\n",
       "285.28746\n",
       "  6.41737\n",
       "312.31521\n",
       " 195.5504\n",
       " 69.64181\n",
       "      ...\n",
       "136.91482\n",
       "283.28439\n",
       "296.56325\n",
       "233.84485\n",
       "181.43365\n",
       "  10.9688\n",
       " 337.8376\n",
       " 319.3553\n",
       "107.63119\n",
       "186.13602\n",
       "127.19745\n",
       "187.46631"
      ]
     },
     "execution_count": 4,
     "metadata": {},
     "output_type": "execute_result"
    }
   ],
   "source": [
    "tbl[\"w\"]"
   ]
  },
  {
   "cell_type": "code",
   "execution_count": 35,
   "metadata": {},
   "outputs": [
    {
     "data": {
      "text/html": [
       "<i>Row index=0</i>\n",
       "<table id=\"table140125188341888\">\n",
       "<thead><tr><th>Num</th><th>Name</th><th>Epoch</th><th>a</th><th>e</th><th>i</th><th>w</th><th>Node</th><th>M</th><th>H</th><th>G</th><th>Ref</th></tr></thead>\n",
       "<thead><tr><th>int64</th><th>str17</th><th>int64</th><th>float64</th><th>float64</th><th>float64</th><th>float64</th><th>float64</th><th>float64</th><th>float64</th><th>float64</th><th>str7</th></tr></thead>\n",
       "<tr><td>1</td><td>Ceres</td><td>58600</td><td>2.7691651</td><td>0.07600903</td><td>10.59407</td><td>73.59769</td><td>80.30553</td><td>77.3720977</td><td>3.34</td><td>0.12</td><td>JPL 34</td></tr>\n",
       "</table>"
      ],
      "text/plain": [
       "<Row index=0>\n",
       " Num   Name Epoch     a         e         i        w       Node       M         H       G     Ref  \n",
       "int64 str17 int64  float64   float64   float64  float64  float64   float64   float64 float64  str7 \n",
       "----- ----- ----- --------- ---------- -------- -------- -------- ---------- ------- ------- ------\n",
       "    1 Ceres 58600 2.7691651 0.07600903 10.59407 73.59769 80.30553 77.3720977    3.34    0.12 JPL 34"
      ]
     },
     "execution_count": 35,
     "metadata": {},
     "output_type": "execute_result"
    }
   ],
   "source": [
    "t = tbl[0]"
   ]
  },
  {
   "cell_type": "code",
   "execution_count": 36,
   "metadata": {},
   "outputs": [
    {
     "data": {
      "text/plain": [
       "'Ceres'"
      ]
     },
     "execution_count": 36,
     "metadata": {},
     "output_type": "execute_result"
    }
   ],
   "source": [
    "# Assigning the name of the asteroid\n",
    "t[1]"
   ]
  },
  {
   "cell_type": "code",
   "execution_count": 38,
   "metadata": {},
   "outputs": [
    {
     "data": {
      "text/plain": [
       "414267098960.0"
      ]
     },
     "execution_count": 38,
     "metadata": {},
     "output_type": "execute_result"
    }
   ],
   "source": [
    "# Assigning the semi-major axis in meters\n",
    "a = t[3]*1.496e+11"
   ]
  },
  {
   "cell_type": "code",
   "execution_count": 39,
   "metadata": {},
   "outputs": [
    {
     "data": {
      "text/plain": [
       "0.07600903"
      ]
     },
     "execution_count": 39,
     "metadata": {},
     "output_type": "execute_result"
    }
   ],
   "source": [
    "# Assigning the eccentricity\n",
    "e = t[4]"
   ]
  },
  {
   "cell_type": "code",
   "execution_count": 50,
   "metadata": {},
   "outputs": [
    {
     "data": {
      "text/plain": [
       "80.30553"
      ]
     },
     "execution_count": 50,
     "metadata": {},
     "output_type": "execute_result"
    }
   ],
   "source": [
    "# Assigning the ascending node\n",
    "Ω = t[7]"
   ]
  },
  {
   "cell_type": "code",
   "execution_count": 51,
   "metadata": {},
   "outputs": [
    {
     "data": {
      "text/plain": [
       "73.59769"
      ]
     },
     "execution_count": 51,
     "metadata": {},
     "output_type": "execute_result"
    }
   ],
   "source": [
    "# Assigning the argument of perihelion\n",
    "ω = t[6]"
   ]
  },
  {
   "cell_type": "code",
   "execution_count": 40,
   "metadata": {},
   "outputs": [
    {
     "data": {
      "text/plain": [
       "10.59407"
      ]
     },
     "execution_count": 40,
     "metadata": {},
     "output_type": "execute_result"
    }
   ],
   "source": [
    "# Assigning the inclination of the orbit w.r.t J2000 ecliptic plane (plane of Earth's orbit around the sun)\n",
    "i = t[5]"
   ]
  },
  {
   "cell_type": "code",
   "execution_count": 41,
   "metadata": {},
   "outputs": [
    {
     "data": {
      "text/plain": [
       "413068677819.40436"
      ]
     },
     "execution_count": 41,
     "metadata": {},
     "output_type": "execute_result"
    }
   ],
   "source": [
    "# Calculating b, the semi-minor axis\n",
    "b = a*((1-(e**2))**(1/2))"
   ]
  },
  {
   "cell_type": "code",
   "execution_count": 42,
   "metadata": {},
   "outputs": [
    {
     "data": {
      "text/plain": [
       "31488040352.86361"
      ]
     },
     "execution_count": 42,
     "metadata": {},
     "output_type": "execute_result"
    }
   ],
   "source": [
    "# Calculating f, the distance from the center of the orbit to the Sun\n",
    "f = a*e"
   ]
  },
  {
   "cell_type": "code",
   "execution_count": 43,
   "metadata": {},
   "outputs": [
    {
     "data": {
      "text/plain": [
       "2.666371536483298e+17"
      ]
     },
     "execution_count": 43,
     "metadata": {},
     "output_type": "execute_result"
    }
   ],
   "source": [
    "# Calculating P, the orbital period\n",
    "P = (a)**(3/2)"
   ]
  },
  {
   "cell_type": "code",
   "execution_count": 44,
   "metadata": {},
   "outputs": [
    {
     "data": {
      "text/plain": [
       "5063040000"
      ]
     },
     "execution_count": 44,
     "metadata": {},
     "output_type": "execute_result"
    }
   ],
   "source": [
    "# Epoch is represented as the Modified Julian Date, which is defined as the Julian Date - 2400000.5\n",
    "# The number of days since the midnight on November 17, 1858\n",
    "# Epoch in seconds is given as:\n",
    "Epoch = t[2]*24*60*60"
   ]
  },
  {
   "cell_type": "code",
   "execution_count": 54,
   "metadata": {},
   "outputs": [
    {
     "data": {
      "text/plain": [
       "77.3720977"
      ]
     },
     "execution_count": 54,
     "metadata": {},
     "output_type": "execute_result"
    }
   ],
   "source": [
    "# Obtaining the Mean anomaly at Epoch\n",
    "M = t[8]"
   ]
  },
  {
   "cell_type": "code",
   "execution_count": 55,
   "metadata": {},
   "outputs": [
    {
     "data": {
      "text/plain": [
       "296.1213166262361"
      ]
     },
     "execution_count": 55,
     "metadata": {},
     "output_type": "execute_result"
    }
   ],
   "source": [
    "# Obtaining the Current Mean anomaly\n",
    "M = M + Epoch*(((1.32712440041*(10**20))/a**3)**(1/2))"
   ]
  },
  {
   "cell_type": "code",
   "execution_count": 56,
   "metadata": {},
   "outputs": [
    {
     "data": {
      "text/plain": [
       "292.0858840226028"
      ]
     },
     "execution_count": 56,
     "metadata": {},
     "output_type": "execute_result"
    }
   ],
   "source": [
    "# Computing the Eccentric anomaly\n",
    "E = 292.0858840226028"
   ]
  },
  {
   "cell_type": "code",
   "execution_count": 57,
   "metadata": {},
   "outputs": [
    {
     "data": {
      "text/plain": [
       "-72.0123171654385"
      ]
     },
     "execution_count": 57,
     "metadata": {},
     "output_type": "execute_result"
    }
   ],
   "source": [
    "# Computing the True anomaly\n",
    "ν = -72.0123171654385"
   ]
  },
  {
   "cell_type": "code",
   "execution_count": 58,
   "metadata": {},
   "outputs": [
    {
     "data": {
      "text/plain": [
       "445648734655.5007"
      ]
     },
     "execution_count": 58,
     "metadata": {},
     "output_type": "execute_result"
    }
   ],
   "source": [
    "# Computing the distance to the asteroid in meters\n",
    "r = a*(1 - e*np.cos(E))"
   ]
  },
  {
   "cell_type": "code",
   "execution_count": 61,
   "metadata": {},
   "outputs": [
    {
     "data": {
      "text/plain": [
       "array([-4.32414537e+11, -1.07798251e+11,  0.00000000e+00])"
      ]
     },
     "execution_count": 61,
     "metadata": {},
     "output_type": "execute_result"
    }
   ],
   "source": [
    "# Computing the position vectors\n",
    "p = r*np.array([np.cos(ν),np.sin(ν),0])"
   ]
  },
  {
   "cell_type": "code",
   "execution_count": 62,
   "metadata": {},
   "outputs": [
    {
     "data": {
      "text/plain": [
       "array([ -1366.65425421, -16533.89310335,      0.        ])"
      ]
     },
     "execution_count": 62,
     "metadata": {},
     "output_type": "execute_result"
    }
   ],
   "source": [
    "# Computing the velocity vectors\n",
    "v = (((1.32712440041*(10**20)*a)**(1/2))/r)*np.array([-1*np.sin(E),((1-e**2)**(1/2))*np.cos(E),0])"
   ]
  },
  {
   "cell_type": "code",
   "execution_count": 63,
   "metadata": {},
   "outputs": [],
   "source": [
    "# Further computing - Transformation of the position and velocity vectors to heliocentric rectangular coordinates with rotation matrices\n",
    "# Switch to Mathematica for computational simplicity"
   ]
  },
  {
   "cell_type": "code",
   "execution_count": null,
   "metadata": {},
   "outputs": [],
   "source": []
  }
 ],
 "metadata": {
  "kernelspec": {
   "display_name": "Python 3",
   "language": "python",
   "name": "python3"
  },
  "language_info": {
   "codemirror_mode": {
    "name": "ipython",
    "version": 3
   },
   "file_extension": ".py",
   "mimetype": "text/x-python",
   "name": "python",
   "nbconvert_exporter": "python",
   "pygments_lexer": "ipython3",
   "version": "3.6.8"
  }
 },
 "nbformat": 4,
 "nbformat_minor": 2
}
