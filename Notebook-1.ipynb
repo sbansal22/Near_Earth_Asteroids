{
 "cells": [
  {
   "cell_type": "code",
   "execution_count": 58,
   "metadata": {},
   "outputs": [],
   "source": [
    "import numpy as np\n",
    "\n",
    "# Set up matplotlib and use a nicer set of plot parameters\n",
    "%config InlineBackend.rc = {}\n",
    "import matplotlib\n",
    "import matplotlib.pyplot as plt\n",
    "%matplotlib inline\n",
    "\n",
    "# Configure Jupyter so figures appear in the notebook\n",
    "%matplotlib inline\n",
    "\n",
    "# Configure Jupyter to display the assigned value after an assignment\n",
    "%config InteractiveShell.ast_node_interactivity='last_expr_or_assign'\n",
    "\n",
    "# import functions from the modsim.py module\n",
    "from modsim import *\n",
    "\n",
    "# import math\n",
    "import numpy as np\n",
    "import matplotlib.pyplot as plt\n",
    "\n",
    "#import time\n",
    "import datetime"
   ]
  },
  {
   "cell_type": "code",
   "execution_count": 59,
   "metadata": {},
   "outputs": [],
   "source": [
    "from astropy.io import ascii"
   ]
  },
  {
   "cell_type": "markdown",
   "metadata": {},
   "source": [
    "# Importing data from JPL Horizons"
   ]
  },
  {
   "cell_type": "code",
   "execution_count": 60,
   "metadata": {},
   "outputs": [
    {
     "data": {
      "text/html": [
       "<i>Table length=523824</i>\n",
       "<table id=\"table139695904834000\" class=\"table-striped table-bordered table-condensed\">\n",
       "<thead><tr><th>Num</th><th>Name</th><th>Epoch</th><th>a</th><th>e</th><th>i</th><th>w</th><th>Node</th><th>M</th><th>H</th><th>G</th><th>Ref</th></tr></thead>\n",
       "<thead><tr><th>int64</th><th>str17</th><th>int64</th><th>float64</th><th>float64</th><th>float64</th><th>float64</th><th>float64</th><th>float64</th><th>float64</th><th>float64</th><th>str7</th></tr></thead>\n",
       "<tr><td>1</td><td>Ceres</td><td>58600</td><td>2.7691651</td><td>0.07600903</td><td>10.59407</td><td>73.59769</td><td>80.30553</td><td>77.3720977</td><td>3.34</td><td>0.12</td><td>JPL 34</td></tr>\n",
       "<tr><td>2</td><td>Pallas</td><td>58600</td><td>2.7724659</td><td>0.23033681</td><td>34.83623</td><td>310.04886</td><td>173.08006</td><td>59.699131</td><td>4.13</td><td>0.11</td><td>JPL 34</td></tr>\n",
       "<tr><td>3</td><td>Juno</td><td>58600</td><td>2.6691495</td><td>0.25694231</td><td>12.98892</td><td>248.13863</td><td>169.85275</td><td>34.925019</td><td>5.33</td><td>0.32</td><td>JPL 107</td></tr>\n",
       "<tr><td>4</td><td>Vesta</td><td>58600</td><td>2.3614179</td><td>0.08872146</td><td>7.14177</td><td>150.72854</td><td>103.8108</td><td>95.8619362</td><td>3.2</td><td>0.32</td><td>JPL 34</td></tr>\n",
       "<tr><td>5</td><td>Astraea</td><td>58600</td><td>2.5742489</td><td>0.19109452</td><td>5.36699</td><td>358.68761</td><td>141.5766</td><td>282.3662913</td><td>6.85</td><td>0.15</td><td>JPL 107</td></tr>\n",
       "<tr><td>6</td><td>Hebe</td><td>58600</td><td>2.42516</td><td>0.20300711</td><td>14.7379</td><td>239.80749</td><td>138.6402</td><td>86.1979217</td><td>5.71</td><td>0.24</td><td>JPL 85</td></tr>\n",
       "<tr><td>7</td><td>Iris</td><td>58600</td><td>2.3853338</td><td>0.23120579</td><td>5.52365</td><td>145.2651</td><td>259.56323</td><td>140.4196554</td><td>5.51</td><td>0.15</td><td>JPL 108</td></tr>\n",
       "<tr><td>8</td><td>Flora</td><td>58600</td><td>2.2017642</td><td>0.15649925</td><td>5.88695</td><td>285.28746</td><td>110.88933</td><td>194.8828966</td><td>6.49</td><td>0.28</td><td>JPL 116</td></tr>\n",
       "<tr><td>9</td><td>Metis</td><td>58600</td><td>2.3856365</td><td>0.12311427</td><td>5.57682</td><td>6.41737</td><td>68.90858</td><td>276.8616188</td><td>6.28</td><td>0.17</td><td>JPL 113</td></tr>\n",
       "<tr><td>10</td><td>Hygiea</td><td>58600</td><td>3.1415392</td><td>0.11246066</td><td>3.83156</td><td>312.31521</td><td>283.20217</td><td>152.1848508</td><td>5.43</td><td>0.15</td><td>JPL 90</td></tr>\n",
       "<tr><td>...</td><td>...</td><td>...</td><td>...</td><td>...</td><td>...</td><td>...</td><td>...</td><td>...</td><td>...</td><td>...</td><td>...</td></tr>\n",
       "<tr><td>523815</td><td>2009 HW44</td><td>58600</td><td>2.6874057</td><td>0.59211641</td><td>41.08185</td><td>296.56325</td><td>37.88264</td><td>52.4018906</td><td>17.5</td><td>0.15</td><td>JPL 46</td></tr>\n",
       "<tr><td>523816</td><td>2009 ST103</td><td>58600</td><td>2.6886324</td><td>0.72196892</td><td>15.92724</td><td>233.84485</td><td>227.23064</td><td>41.4086496</td><td>18.1</td><td>0.15</td><td>JPL 34</td></tr>\n",
       "<tr><td>523817</td><td>2009 TK</td><td>58600</td><td>1.3077824</td><td>0.20420845</td><td>20.17251</td><td>181.43365</td><td>192.74775</td><td>134.9360337</td><td>22.3</td><td>0.15</td><td>JPL 33</td></tr>\n",
       "<tr><td>523818</td><td>2010 SH13</td><td>58600</td><td>1.2059555</td><td>0.13692666</td><td>13.86164</td><td>10.9688</td><td>190.6017</td><td>325.6154636</td><td>21.3</td><td>0.15</td><td>JPL 39</td></tr>\n",
       "<tr><td>523819</td><td>2010 VB72</td><td>58600</td><td>1.2176171</td><td>0.06721459</td><td>16.05986</td><td>337.8376</td><td>196.84414</td><td>347.5524098</td><td>20.9</td><td>0.15</td><td>JPL 39</td></tr>\n",
       "<tr><td>523820</td><td>2011 GN44</td><td>58600</td><td>2.2447515</td><td>0.59786469</td><td>54.9959</td><td>319.3553</td><td>16.94976</td><td>81.1094202</td><td>18.3</td><td>0.15</td><td>JPL 26</td></tr>\n",
       "<tr><td>523821</td><td>2011 RF</td><td>58600</td><td>1.766413</td><td>0.29569351</td><td>9.523</td><td>107.63119</td><td>233.52439</td><td>95.1829618</td><td>20.5</td><td>0.15</td><td>JPL 28</td></tr>\n",
       "<tr><td>523822</td><td>2012 DG61</td><td>58600</td><td>3.2512573</td><td>0.73812059</td><td>15.3397</td><td>186.13602</td><td>69.9953</td><td>56.0597163</td><td>18.2</td><td>0.15</td><td>JPL 54</td></tr>\n",
       "<tr><td>523823</td><td>2015 BG311</td><td>58600</td><td>2.568408</td><td>0.56785462</td><td>5.73225</td><td>127.19745</td><td>238.92659</td><td>58.6176278</td><td>18.1</td><td>0.15</td><td>JPL 25</td></tr>\n",
       "<tr><td>523824</td><td>2016 RO1</td><td>58600</td><td>1.5545656</td><td>0.33320635</td><td>13.68521</td><td>187.46631</td><td>261.61001</td><td>61.1710821</td><td>19.5</td><td>0.15</td><td>JPL 57</td></tr>\n",
       "</table>"
      ],
      "text/plain": [
       "<Table length=523824>\n",
       " Num      Name    Epoch     a     ...      M         H       G      Ref  \n",
       "int64    str17    int64  float64  ...   float64   float64 float64   str7 \n",
       "------ ---------- ----- --------- ... ----------- ------- ------- -------\n",
       "     1      Ceres 58600 2.7691651 ...  77.3720977    3.34    0.12  JPL 34\n",
       "     2     Pallas 58600 2.7724659 ...   59.699131    4.13    0.11  JPL 34\n",
       "     3       Juno 58600 2.6691495 ...   34.925019    5.33    0.32 JPL 107\n",
       "     4      Vesta 58600 2.3614179 ...  95.8619362     3.2    0.32  JPL 34\n",
       "     5    Astraea 58600 2.5742489 ... 282.3662913    6.85    0.15 JPL 107\n",
       "     6       Hebe 58600   2.42516 ...  86.1979217    5.71    0.24  JPL 85\n",
       "     7       Iris 58600 2.3853338 ... 140.4196554    5.51    0.15 JPL 108\n",
       "     8      Flora 58600 2.2017642 ... 194.8828966    6.49    0.28 JPL 116\n",
       "     9      Metis 58600 2.3856365 ... 276.8616188    6.28    0.17 JPL 113\n",
       "    10     Hygiea 58600 3.1415392 ... 152.1848508    5.43    0.15  JPL 90\n",
       "   ...        ...   ...       ... ...         ...     ...     ...     ...\n",
       "523815  2009 HW44 58600 2.6874057 ...  52.4018906    17.5    0.15  JPL 46\n",
       "523816 2009 ST103 58600 2.6886324 ...  41.4086496    18.1    0.15  JPL 34\n",
       "523817    2009 TK 58600 1.3077824 ... 134.9360337    22.3    0.15  JPL 33\n",
       "523818  2010 SH13 58600 1.2059555 ... 325.6154636    21.3    0.15  JPL 39\n",
       "523819  2010 VB72 58600 1.2176171 ... 347.5524098    20.9    0.15  JPL 39\n",
       "523820  2011 GN44 58600 2.2447515 ...  81.1094202    18.3    0.15  JPL 26\n",
       "523821    2011 RF 58600  1.766413 ...  95.1829618    20.5    0.15  JPL 28\n",
       "523822  2012 DG61 58600 3.2512573 ...  56.0597163    18.2    0.15  JPL 54\n",
       "523823 2015 BG311 58600  2.568408 ...  58.6176278    18.1    0.15  JPL 25\n",
       "523824   2016 RO1 58600 1.5545656 ...  61.1710821    19.5    0.15  JPL 57"
      ]
     },
     "execution_count": 60,
     "metadata": {},
     "output_type": "execute_result"
    }
   ],
   "source": [
    "tbl = ascii.read(\"ELEMENTS.NUMBR\")\n",
    "tbl"
   ]
  },
  {
   "cell_type": "code",
   "execution_count": 61,
   "metadata": {},
   "outputs": [
    {
     "data": {
      "text/html": [
       "&lt;Column name=&apos;w&apos; dtype=&apos;float64&apos; length=523824&gt;\n",
       "<table>\n",
       "<tr><td>73.59769</td></tr>\n",
       "<tr><td>310.04886</td></tr>\n",
       "<tr><td>248.13863</td></tr>\n",
       "<tr><td>150.72854</td></tr>\n",
       "<tr><td>358.68761</td></tr>\n",
       "<tr><td>239.80749</td></tr>\n",
       "<tr><td>145.2651</td></tr>\n",
       "<tr><td>285.28746</td></tr>\n",
       "<tr><td>6.41737</td></tr>\n",
       "<tr><td>312.31521</td></tr>\n",
       "<tr><td>195.5504</td></tr>\n",
       "<tr><td>69.64181</td></tr>\n",
       "<tr><td>...</td></tr>\n",
       "<tr><td>136.91482</td></tr>\n",
       "<tr><td>283.28439</td></tr>\n",
       "<tr><td>296.56325</td></tr>\n",
       "<tr><td>233.84485</td></tr>\n",
       "<tr><td>181.43365</td></tr>\n",
       "<tr><td>10.9688</td></tr>\n",
       "<tr><td>337.8376</td></tr>\n",
       "<tr><td>319.3553</td></tr>\n",
       "<tr><td>107.63119</td></tr>\n",
       "<tr><td>186.13602</td></tr>\n",
       "<tr><td>127.19745</td></tr>\n",
       "<tr><td>187.46631</td></tr>\n",
       "</table>"
      ],
      "text/plain": [
       "<Column name='w' dtype='float64' length=523824>\n",
       " 73.59769\n",
       "310.04886\n",
       "248.13863\n",
       "150.72854\n",
       "358.68761\n",
       "239.80749\n",
       " 145.2651\n",
       "285.28746\n",
       "  6.41737\n",
       "312.31521\n",
       " 195.5504\n",
       " 69.64181\n",
       "      ...\n",
       "136.91482\n",
       "283.28439\n",
       "296.56325\n",
       "233.84485\n",
       "181.43365\n",
       "  10.9688\n",
       " 337.8376\n",
       " 319.3553\n",
       "107.63119\n",
       "186.13602\n",
       "127.19745\n",
       "187.46631"
      ]
     },
     "execution_count": 61,
     "metadata": {},
     "output_type": "execute_result"
    }
   ],
   "source": [
    "tbl[\"w\"]"
   ]
  },
  {
   "cell_type": "code",
   "execution_count": 62,
   "metadata": {},
   "outputs": [
    {
     "data": {
      "text/html": [
       "<i>Row index=0</i>\n",
       "<table id=\"table139695904834000\">\n",
       "<thead><tr><th>Num</th><th>Name</th><th>Epoch</th><th>a</th><th>e</th><th>i</th><th>w</th><th>Node</th><th>M</th><th>H</th><th>G</th><th>Ref</th></tr></thead>\n",
       "<thead><tr><th>int64</th><th>str17</th><th>int64</th><th>float64</th><th>float64</th><th>float64</th><th>float64</th><th>float64</th><th>float64</th><th>float64</th><th>float64</th><th>str7</th></tr></thead>\n",
       "<tr><td>1</td><td>Ceres</td><td>58600</td><td>2.7691651</td><td>0.07600903</td><td>10.59407</td><td>73.59769</td><td>80.30553</td><td>77.3720977</td><td>3.34</td><td>0.12</td><td>JPL 34</td></tr>\n",
       "</table>"
      ],
      "text/plain": [
       "<Row index=0>\n",
       " Num   Name Epoch     a         e         i        w       Node       M         H       G     Ref  \n",
       "int64 str17 int64  float64   float64   float64  float64  float64   float64   float64 float64  str7 \n",
       "----- ----- ----- --------- ---------- -------- -------- -------- ---------- ------- ------- ------\n",
       "    1 Ceres 58600 2.7691651 0.07600903 10.59407 73.59769 80.30553 77.3720977    3.34    0.12 JPL 34"
      ]
     },
     "execution_count": 62,
     "metadata": {},
     "output_type": "execute_result"
    }
   ],
   "source": [
    "t = tbl[0]"
   ]
  },
  {
   "cell_type": "code",
   "execution_count": 63,
   "metadata": {},
   "outputs": [
    {
     "data": {
      "text/html": [
       "astronomical_unit"
      ],
      "text/latex": [
       "$astronomical_unit$"
      ],
      "text/plain": [
       "<Unit('astronomical_unit')>"
      ]
     },
     "execution_count": 63,
     "metadata": {},
     "output_type": "execute_result"
    }
   ],
   "source": [
    "\"\"\"Definition of the units\"\"\"\n",
    "m = UNITS.meter \n",
    "s = UNITS.second\n",
    "kg = UNITS.kilogram\n",
    "degree = UNITS.degree\n",
    "N = UNITS.newton\n",
    "radian = UNITS.radian\n",
    "AU = UNITS.au"
   ]
  },
  {
   "cell_type": "code",
   "execution_count": 64,
   "metadata": {},
   "outputs": [
    {
     "data": {
      "text/plain": [
       "'JPL 34'"
      ]
     },
     "execution_count": 64,
     "metadata": {},
     "output_type": "execute_result"
    }
   ],
   "source": [
    "Serial_Number = t[0]\n",
    "Name = t[1]\n",
    "Epoch = t[2]\n",
    "Semi_major_axis = t[3]\n",
    "eccentricity = t[4]\n",
    "inclination = t[5]\n",
    "argument_of_perehelion = t[6]\n",
    "node = t[7]\n",
    "M = t[8]\n",
    "absolute_magnitude = t[9]\n",
    "G = t[10]\n",
    "JPL_reference_code = t[11]"
   ]
  },
  {
   "cell_type": "code",
   "execution_count": 65,
   "metadata": {},
   "outputs": [
    {
     "data": {
      "text/html": [
       "<div>\n",
       "<style scoped>\n",
       "    .dataframe tbody tr th:only-of-type {\n",
       "        vertical-align: middle;\n",
       "    }\n",
       "\n",
       "    .dataframe tbody tr th {\n",
       "        vertical-align: top;\n",
       "    }\n",
       "\n",
       "    .dataframe thead th {\n",
       "        text-align: right;\n",
       "    }\n",
       "</style>\n",
       "<table border=\"1\" class=\"dataframe\">\n",
       "  <thead>\n",
       "    <tr style=\"text-align: right;\">\n",
       "      <th></th>\n",
       "      <th>values</th>\n",
       "    </tr>\n",
       "  </thead>\n",
       "  <tbody>\n",
       "    <tr>\n",
       "      <th>Num</th>\n",
       "      <td>1</td>\n",
       "    </tr>\n",
       "    <tr>\n",
       "      <th>Name</th>\n",
       "      <td>Ceres</td>\n",
       "    </tr>\n",
       "    <tr>\n",
       "      <th>Epoch</th>\n",
       "      <td>58600</td>\n",
       "    </tr>\n",
       "    <tr>\n",
       "      <th>a</th>\n",
       "      <td>2.76917</td>\n",
       "    </tr>\n",
       "    <tr>\n",
       "      <th>e</th>\n",
       "      <td>0.076009</td>\n",
       "    </tr>\n",
       "    <tr>\n",
       "      <th>i</th>\n",
       "      <td>10.5941</td>\n",
       "    </tr>\n",
       "    <tr>\n",
       "      <th>w</th>\n",
       "      <td>73.5977</td>\n",
       "    </tr>\n",
       "    <tr>\n",
       "      <th>Node</th>\n",
       "      <td>80.3055</td>\n",
       "    </tr>\n",
       "    <tr>\n",
       "      <th>M</th>\n",
       "      <td>77.3721</td>\n",
       "    </tr>\n",
       "    <tr>\n",
       "      <th>H</th>\n",
       "      <td>3.34</td>\n",
       "    </tr>\n",
       "    <tr>\n",
       "      <th>G</th>\n",
       "      <td>0.12</td>\n",
       "    </tr>\n",
       "  </tbody>\n",
       "</table>\n",
       "</div>"
      ],
      "text/plain": [
       "Num             1\n",
       "Name        Ceres\n",
       "Epoch       58600\n",
       "a         2.76917\n",
       "e        0.076009\n",
       "i         10.5941\n",
       "w         73.5977\n",
       "Node      80.3055\n",
       "M         77.3721\n",
       "H            3.34\n",
       "G            0.12\n",
       "dtype: object"
      ]
     },
     "execution_count": 65,
     "metadata": {},
     "output_type": "execute_result"
    }
   ],
   "source": [
    "\"\"\"Definition of the variables. Source: JPL Data\"\"\"\n",
    "params = Params(Num = 1,\n",
    "                Name = 'Ceres',\n",
    "                Epoch = 58600,\n",
    "                a = 2.7691651,\n",
    "                e = 0.07600903,\n",
    "                i = 10.59407,\n",
    "                w = 73.59769,\n",
    "                Node = 80.30553,\n",
    "                M = 77.3720977,\n",
    "                H = 3.34,\n",
    "                G = 0.12)"
   ]
  },
  {
   "cell_type": "code",
   "execution_count": 66,
   "metadata": {},
   "outputs": [],
   "source": [
    "def current_time():\n",
    "    \"\"\"\n",
    "    Finds the current time\n",
    "    \n",
    "    \"\"\"\n",
    "    current_time = datetime.datetime.now()\n",
    "    year = current_time.year\n",
    "    month = current_time.month\n",
    "    day = current_time.day\n",
    "    hour = current_time.hour\n",
    "    minute = current_time.minute\n",
    "    second = current_time.second\n",
    "\n",
    "    return year, month, day, hour, minute, second"
   ]
  },
  {
   "cell_type": "code",
   "execution_count": 68,
   "metadata": {},
   "outputs": [
    {
     "data": {
      "text/plain": [
       "(2019, 3, 13, 14, 40, 36)"
      ]
     },
     "execution_count": 68,
     "metadata": {},
     "output_type": "execute_result"
    }
   ],
   "source": [
    "current_time()"
   ]
  },
  {
   "cell_type": "code",
   "execution_count": 70,
   "metadata": {},
   "outputs": [
    {
     "data": {
      "text/plain": [
       "{'Sun': '#ffcc00', 'Earth': '#204a87', 'Jupiter': '#ba3821'}"
      ]
     },
     "execution_count": 70,
     "metadata": {},
     "output_type": "execute_result"
    }
   ],
   "source": [
    "# From HuntAsteroids plotting.py\n",
    "BODY_COLORS = {\n",
    "    \"Sun\": \"#ffcc00\",\n",
    "    \"Earth\": \"#204a87\",\n",
    "    \"Jupiter\": \"#ba3821\",\n",
    "}"
   ]
  },
  {
   "cell_type": "code",
   "execution_count": 72,
   "metadata": {},
   "outputs": [],
   "source": [
    "# From HuntAsteroids plotting.py\n",
    "def plot(state, label=None):\n",
    "    \"\"\"\n",
    "    Plots a ``State``.\n",
    "    \"\"\"\n",
    "    op = OrbitPlotter()\n",
    "    return op.plot(state, label=label)"
   ]
  },
  {
   "cell_type": "code",
   "execution_count": 73,
   "metadata": {},
   "outputs": [],
   "source": [
    "# From HuntAsteroids plotting.py\n",
    "class OrbitPlotter(object):\n",
    "    \"\"\"OrbitPlotter class.\n",
    "\n",
    "    This class holds the perifocal plane of the first\n",
    "    :py:class:`~poliastro.twobody.State` plotted in it using\n",
    "    :py:meth:`plot`, so all following\n",
    "    plots will be projected on that plane. Alternatively, you can call\n",
    "    :py:meth:`set_frame` to set the frame before plotting.\n",
    "\n",
    "    \"\"\"\n",
    "    def __init__(self, ax=None, num_points=100, bgcolor=(1,1,1), linewidth=1.5, markersize=6):\n",
    "        \"\"\"Constructor.\n",
    "\n",
    "        Parameters\n",
    "        ----------\n",
    "        ax : Axes\n",
    "            Axes in which to plot. If not given, new ones will be created.\n",
    "        num_points : int, optional\n",
    "            Number of points to use in plots, default to 100.\n",
    "\n",
    "        \"\"\"\n",
    "        self.ax = ax\n",
    "        if not self.ax:\n",
    "            _, self.ax = plt.subplots(figsize=(6, 6))\n",
    "        self.ax.set_facecolor(bgcolor)\n",
    "        self.linewidth=linewidth\n",
    "        self.markersize=markersize\n",
    "        self.num_points = num_points\n",
    "        self._frame = None\n",
    "        self._states = []"
   ]
  },
  {
   "cell_type": "code",
   "execution_count": 74,
   "metadata": {},
   "outputs": [],
   "source": [
    "# From HuntAsteroids plotting.py\n",
    "def set_frame(self, p_vec, q_vec, w_vec):\n",
    "        \"\"\"Sets perifocal frame if not existing.\n",
    "\n",
    "        Raises\n",
    "        ------\n",
    "        ValueError\n",
    "            If the vectors are not a set of mutually orthogonal unit vectors.\n",
    "        NotImplementedError\n",
    "            If the frame was already set up.\n",
    "\n",
    "        \"\"\"\n",
    "        if not self._frame:\n",
    "            if not np.allclose([norm(v) for v in (p_vec, q_vec, w_vec)], 1):\n",
    "                raise ValueError(\"Vectors must be unit.\")\n",
    "            if not np.allclose([p_vec.dot(q_vec),\n",
    "                                q_vec.dot(w_vec),\n",
    "                                w_vec.dot(p_vec)], 0):\n",
    "                raise ValueError(\"Vectors must be mutually orthogonal.\")\n",
    "            else:\n",
    "                self._frame = p_vec, q_vec, w_vec\n",
    "        else:\n",
    "            raise NotImplementedError"
   ]
  },
  {
   "cell_type": "code",
   "execution_count": 76,
   "metadata": {},
   "outputs": [],
   "source": [
    "# From HuntAsteroids plotting.py\n",
    "def plot(self, orbit, osculating=True, label=None):\n",
    "        \"\"\"Plots state and osculating orbit in their plane.\n",
    "\n",
    "        \"\"\"\n",
    "        # TODO: This function needs a refactoring\n",
    "        if not self._frame:\n",
    "            self.set_frame(*orbit.pqw())\n",
    "\n",
    "        self._states.append(orbit)\n",
    "\n",
    "        lines = []\n",
    "\n",
    "        nu_vals = self._generate_vals(orbit.state)\n",
    "\n",
    "        # Compute PQW coordinates\n",
    "        r_pqw, _ = rv_pqw(orbit.attractor.k.to(u.km ** 3 / u.s ** 2).value,\n",
    "                          orbit.p.to(u.km).value,\n",
    "                          orbit.ecc.value,\n",
    "                          nu_vals.value)\n",
    "        r_pqw = r_pqw * u.km\n",
    "\n",
    "        # Express on inertial frame\n",
    "        e_vec, p_vec, h_vec = orbit.pqw()\n",
    "        p_vec = np.cross(h_vec, e_vec) * u.one\n",
    "        rr = (r_pqw[:, 0, None].dot(e_vec[None, :]) +\n",
    "              r_pqw[:, 1, None].dot(p_vec[None, :]))\n",
    "\n",
    "        # Project on OrbitPlotter frame\n",
    "        # x_vec, y_vec, z_vec = self._frame\n",
    "        rr_proj = rr - rr.dot(self._frame[2])[:, None] * self._frame[2]\n",
    "        x = rr_proj.dot(self._frame[0])\n",
    "        y = rr_proj.dot(self._frame[1])\n",
    "\n",
    "        # Plot current position\n",
    "        l, = self.ax.plot(x[0].to(u.km).value, y[0].to(u.km).value,\n",
    "                          'o', mew=0, markersize=self.markersize)\n",
    "        lines.append(l)\n",
    "\n",
    "        # Attractor\n",
    "        # TODO: If several orbits are plotted, the attractor is being plotted several times!\n",
    "        #radius = max(orbit.attractor.R.to(u.km).value,\n",
    "        #             orbit.r_p.to(u.km).value / 6)\n",
    "        radius = max(orbit.attractor.R.to(u.km).value,\n",
    "                     orbit.r_p.to(u.km).value / 12)\n",
    "        color = BODY_COLORS.get(orbit.attractor.name, \"#999999\")\n",
    "        self.ax.add_patch(\n",
    "                mpl.patches.Circle((0, 0), radius, lw=0, color=color))\n",
    "\n",
    "        if osculating:\n",
    "            l, = self.ax.plot(x.to(u.km).value, y.to(u.km).value,\n",
    "                              '--', color=l.get_color(),linewidth=self.linewidth)\n",
    "            lines.append(l)\n",
    "\n",
    "        if label:\n",
    "            # This will apply the label to either the point or the osculating\n",
    "            # orbit depending on the last plotted line, as they share variable\n",
    "            l.set_label(label)\n",
    "            self.ax.legend()\n",
    "\n",
    "        self.ax.set_title(orbit.epoch.iso)\n",
    "        self.ax.set_xlabel(\"$x$ (km)\")\n",
    "        self.ax.set_ylabel(\"$y$ (km)\")\n",
    "        self.ax.set_aspect(1)\n",
    "\n",
    "        return lines\n"
   ]
  },
  {
   "cell_type": "code",
   "execution_count": null,
   "metadata": {},
   "outputs": [],
   "source": []
  }
 ],
 "metadata": {
  "kernelspec": {
   "display_name": "Python 3",
   "language": "python",
   "name": "python3"
  },
  "language_info": {
   "codemirror_mode": {
    "name": "ipython",
    "version": 3
   },
   "file_extension": ".py",
   "mimetype": "text/x-python",
   "name": "python",
   "nbconvert_exporter": "python",
   "pygments_lexer": "ipython3",
   "version": "3.6.8"
  }
 },
 "nbformat": 4,
 "nbformat_minor": 2
}
